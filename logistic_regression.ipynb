{
 "metadata": {
  "name": "",
  "signature": "sha256:ffc8d31e808e84cd69ff3ad9ff858a72b14f60452655fafca2373459ab22458b"
 },
 "nbformat": 3,
 "nbformat_minor": 0,
 "worksheets": [
  {
   "cells": [
    {
     "cell_type": "markdown",
     "metadata": {},
     "source": [
      "# Logistic Regression"
     ]
    },
    {
     "cell_type": "code",
     "collapsed": false,
     "input": [
      "# reproducible results\n",
      "random.seed(1234)\n",
      "\n",
      "# parameters\n",
      "num_samples = 100\n",
      "num_minibatches = 50\n",
      "dim = 2\n",
      "theta_true = random.randn(dim+1).reshape(-1,1)\n",
      "\n",
      "# Generate sample data\n",
      "x = [hstack((random.randn(num_samples,dim), ones((num_samples,1)))) for j in range(num_minibatches)]\n",
      "y = [(random.rand(num_samples,1) < 1 / (1+np.exp(-xj.dot(theta_true)))).astype('float') for xj in x]\n",
      "data = [{'x': d[0], 'y': d[1]} for d in zip(x,y)]\n",
      "\n",
      "# Plot data\n",
      "fig = figure()\n",
      "sns.set_style('whitegrid')\n",
      "plot(x[0][y[0].ravel()==0,0], x[0][y[0].ravel()==0,1], 'bo', alpha=0.5)\n",
      "plot(x[0][y[0].ravel()==1,0], x[0][y[0].ravel()==1,1], 'ro', alpha=0.5)\n",
      "gca().set_aspect('equal')"
     ],
     "language": "python",
     "metadata": {},
     "outputs": [
      {
       "metadata": {},
       "output_type": "display_data",
       "png": "[encoded data removed]",
       "text": [
        "<matplotlib.figure.Figure at 0x7f2f76d42c90>"
       ]
      }
     ],
     "prompt_number": 41
    },
    {
     "cell_type": "markdown",
     "metadata": {},
     "source": [
      "Objective (negative log-likelihood):\n",
      "\n",
      "$$ f = \\sum_{i=1}^n (1-y_i) \\theta^Tx_i + \\log\\left(1+\\exp (-\\theta^Tx_i)\\right) $$\n",
      "$$ \\frac{df}{d\\theta} = \\sum_{i=1}^n \\left( 1 - y_i - \\frac{\\exp(-\\theta^Tx_i)}{1+\\exp(-\\theta^Tx_i)}\\right) x_i $$"
     ]
    },
    {
     "cell_type": "code",
     "collapsed": false,
     "input": [
      "import theano\n",
      "import theano.tensor as T\n",
      "\n",
      "tx = T.matrix('x')\n",
      "tw = T.matrix('theta')\n",
      "ty = T.matrix('y')\n",
      "\n",
      "u = tx.dot(tw)\n",
      "f = T.sum( (1-ty)*u + T.log(1+T.exp(-u)))\n",
      "df = T.grad(f, tw)\n",
      "f_df = theano.function([tx,ty,tw], [f,df])\n",
      "\n",
      "def f_df_wrapper(theta, d):\n",
      "    return f_df_theano(d['x'], d['y'], theta)"
     ],
     "language": "python",
     "metadata": {},
     "outputs": [],
     "prompt_number": 74
    },
    {
     "cell_type": "code",
     "collapsed": false,
     "input": [
      "# Initialize optimizer\n",
      "from sfo.sfo import SFO\n",
      "theta_init = np.random.randn(3,1)\n",
      "optimizer = SFO(f_df_wrapper, theta_init, data)\n",
      "\n",
      "# optimize\n",
      "theta = optimizer.optimize(num_passes=5)"
     ],
     "language": "python",
     "metadata": {},
     "outputs": [],
     "prompt_number": 78
    },
    {
     "cell_type": "code",
     "collapsed": false,
     "input": [
      "theta"
     ],
     "language": "python",
     "metadata": {},
     "outputs": [
      {
       "metadata": {},
       "output_type": "pyout",
       "prompt_number": 79,
       "text": [
        "array([[ 0.51656083],\n",
        "       [-1.20314979],\n",
        "       [ 1.4245274 ]])"
       ]
      }
     ],
     "prompt_number": 79
    },
    {
     "cell_type": "code",
     "collapsed": false,
     "input": [
      "theta_true"
     ],
     "language": "python",
     "metadata": {},
     "outputs": [
      {
       "metadata": {},
       "output_type": "pyout",
       "prompt_number": 80,
       "text": [
        "array([[ 0.47143516],\n",
        "       [-1.19097569],\n",
        "       [ 1.43270697]])"
       ]
      }
     ],
     "prompt_number": 80
    },
    {
     "cell_type": "code",
     "collapsed": false,
     "input": [],
     "language": "python",
     "metadata": {},
     "outputs": []
    }
   ],
   "metadata": {}
  }
 ]
}